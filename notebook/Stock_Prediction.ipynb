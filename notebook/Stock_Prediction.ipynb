{
  "nbformat": 4,
  "nbformat_minor": 0,
  "metadata": {
    "colab": {
      "provenance": [],
      "gpuType": "T4"
    },
    "kernelspec": {
      "name": "python3",
      "display_name": "Python 3"
    },
    "language_info": {
      "name": "python"
    },
    "accelerator": "GPU"
  },
  "cells": [
    {
      "cell_type": "markdown",
      "source": [
        "## Installing Necessary Libraries"
      ],
      "metadata": {
        "id": "VtraIfqtJsFv"
      }
    },
    {
      "cell_type": "code",
      "source": [
        "!pip install pandas numpy matplotlib keras scikit-learn"
      ],
      "metadata": {
        "colab": {
          "base_uri": "https://localhost:8080/"
        },
        "id": "1gEJ6G4A3Vrb",
        "outputId": "753d7658-e477-4639-ad5a-232eda4b9a87"
      },
      "execution_count": 29,
      "outputs": [
        {
          "output_type": "stream",
          "name": "stdout",
          "text": [
            "Requirement already satisfied: pandas in /usr/local/lib/python3.11/dist-packages (2.2.2)\n",
            "Requirement already satisfied: numpy in /usr/local/lib/python3.11/dist-packages (1.26.4)\n",
            "Requirement already satisfied: matplotlib in /usr/local/lib/python3.11/dist-packages (3.10.0)\n",
            "Requirement already satisfied: keras in /usr/local/lib/python3.11/dist-packages (3.8.0)\n",
            "Requirement already satisfied: scikit-learn in /usr/local/lib/python3.11/dist-packages (1.6.1)\n",
            "Requirement already satisfied: python-dateutil>=2.8.2 in /usr/local/lib/python3.11/dist-packages (from pandas) (2.8.2)\n",
            "Requirement already satisfied: pytz>=2020.1 in /usr/local/lib/python3.11/dist-packages (from pandas) (2024.2)\n",
            "Requirement already satisfied: tzdata>=2022.7 in /usr/local/lib/python3.11/dist-packages (from pandas) (2025.1)\n",
            "Requirement already satisfied: contourpy>=1.0.1 in /usr/local/lib/python3.11/dist-packages (from matplotlib) (1.3.1)\n",
            "Requirement already satisfied: cycler>=0.10 in /usr/local/lib/python3.11/dist-packages (from matplotlib) (0.12.1)\n",
            "Requirement already satisfied: fonttools>=4.22.0 in /usr/local/lib/python3.11/dist-packages (from matplotlib) (4.55.7)\n",
            "Requirement already satisfied: kiwisolver>=1.3.1 in /usr/local/lib/python3.11/dist-packages (from matplotlib) (1.4.8)\n",
            "Requirement already satisfied: packaging>=20.0 in /usr/local/lib/python3.11/dist-packages (from matplotlib) (24.2)\n",
            "Requirement already satisfied: pillow>=8 in /usr/local/lib/python3.11/dist-packages (from matplotlib) (11.1.0)\n",
            "Requirement already satisfied: pyparsing>=2.3.1 in /usr/local/lib/python3.11/dist-packages (from matplotlib) (3.2.1)\n",
            "Requirement already satisfied: absl-py in /usr/local/lib/python3.11/dist-packages (from keras) (1.4.0)\n",
            "Requirement already satisfied: rich in /usr/local/lib/python3.11/dist-packages (from keras) (13.9.4)\n",
            "Requirement already satisfied: namex in /usr/local/lib/python3.11/dist-packages (from keras) (0.0.8)\n",
            "Requirement already satisfied: h5py in /usr/local/lib/python3.11/dist-packages (from keras) (3.12.1)\n",
            "Requirement already satisfied: optree in /usr/local/lib/python3.11/dist-packages (from keras) (0.14.0)\n",
            "Requirement already satisfied: ml-dtypes in /usr/local/lib/python3.11/dist-packages (from keras) (0.4.1)\n",
            "Requirement already satisfied: scipy>=1.6.0 in /usr/local/lib/python3.11/dist-packages (from scikit-learn) (1.13.1)\n",
            "Requirement already satisfied: joblib>=1.2.0 in /usr/local/lib/python3.11/dist-packages (from scikit-learn) (1.4.2)\n",
            "Requirement already satisfied: threadpoolctl>=3.1.0 in /usr/local/lib/python3.11/dist-packages (from scikit-learn) (3.5.0)\n",
            "Requirement already satisfied: six>=1.5 in /usr/local/lib/python3.11/dist-packages (from python-dateutil>=2.8.2->pandas) (1.17.0)\n",
            "Requirement already satisfied: typing-extensions>=4.5.0 in /usr/local/lib/python3.11/dist-packages (from optree->keras) (4.12.2)\n",
            "Requirement already satisfied: markdown-it-py>=2.2.0 in /usr/local/lib/python3.11/dist-packages (from rich->keras) (3.0.0)\n",
            "Requirement already satisfied: pygments<3.0.0,>=2.13.0 in /usr/local/lib/python3.11/dist-packages (from rich->keras) (2.18.0)\n",
            "Requirement already satisfied: mdurl~=0.1 in /usr/local/lib/python3.11/dist-packages (from markdown-it-py>=2.2.0->rich->keras) (0.1.2)\n"
          ]
        }
      ]
    },
    {
      "cell_type": "markdown",
      "source": [
        "## Step 1: Data Preparation"
      ],
      "metadata": {
        "id": "o15j8mxkJ0W8"
      }
    },
    {
      "cell_type": "code",
      "execution_count": 30,
      "metadata": {
        "id": "RaCzO7dM3Ud3"
      },
      "outputs": [],
      "source": [
        "# Step 1: Data Preparation\n",
        "import pandas as pd\n",
        "import numpy as np\n",
        "\n",
        "# Load the dataset\n",
        "df = pd.read_csv('GOOG.csv')  # Replace with your actual file name\n",
        "\n",
        "# Features: Using 'open', 'high', 'low', and 'volume'\n",
        "X = df[['open', 'high', 'low', 'volume']].values\n",
        "\n",
        "# Target: Predicting the 'close' price\n",
        "y = df['close'].values"
      ]
    },
    {
      "cell_type": "markdown",
      "source": [
        "## Step 2: Model Training"
      ],
      "metadata": {
        "id": "42aRtLt-KA--"
      }
    },
    {
      "cell_type": "code",
      "source": [
        "# Step 2: Model Training\n",
        "from keras.models import Sequential\n",
        "from keras.layers import LSTM, Dense\n",
        "from sklearn.linear_model import LinearRegression\n",
        "\n",
        "# Reshape data for LSTM\n",
        "X_lstm = X.reshape((X.shape[0], X.shape[1], 1))\n",
        "\n",
        "# Create LSTM model\n",
        "model_lstm = Sequential()\n",
        "model_lstm.add(LSTM(50, activation='relu', input_shape=(X_lstm.shape[1], 1)))\n",
        "model_lstm.add(Dense(1))\n",
        "model_lstm.compile(optimizer='adam', loss='mse')\n",
        "\n",
        "# Train the model\n",
        "model_lstm.fit(X_lstm, y, epochs=200, verbose=0)\n",
        "pred_lstm = model_lstm.predict(X_lstm)\n",
        "\n",
        "# Create and train Linear Regression model\n",
        "model_lr = LinearRegression()\n",
        "model_lr.fit(X, y)\n",
        "pred_lr = model_lr.predict(X)"
      ],
      "metadata": {
        "colab": {
          "base_uri": "https://localhost:8080/"
        },
        "id": "bS_Zxz9AKCrX",
        "outputId": "d4a9efcc-dfd0-4edb-9a9a-ef0ac3c7d991"
      },
      "execution_count": 31,
      "outputs": [
        {
          "output_type": "stream",
          "name": "stderr",
          "text": [
            "/usr/local/lib/python3.11/dist-packages/keras/src/layers/rnn/rnn.py:200: UserWarning: Do not pass an `input_shape`/`input_dim` argument to a layer. When using Sequential models, prefer using an `Input(shape)` object as the first layer in the model instead.\n",
            "  super().__init__(**kwargs)\n"
          ]
        },
        {
          "output_type": "stream",
          "name": "stdout",
          "text": [
            "\u001b[1m40/40\u001b[0m \u001b[32m━━━━━━━━━━━━━━━━━━━━\u001b[0m\u001b[37m\u001b[0m \u001b[1m1s\u001b[0m 10ms/step\n"
          ]
        }
      ]
    },
    {
      "cell_type": "markdown",
      "source": [
        "## Step 3: Generate Predictions and Calculate Metrics"
      ],
      "metadata": {
        "id": "O9DUV8SfKBdN"
      }
    },
    {
      "cell_type": "code",
      "source": [
        "# Step 3: Generate Predictions and Calculate Metrics\n",
        "from sklearn.metrics import mean_absolute_error, mean_squared_error\n",
        "\n",
        "# Calculate metrics for Linear Regression\n",
        "mae_lr = mean_absolute_error(y, pred_lr)\n",
        "mse_lr = mean_squared_error(y, pred_lr)\n",
        "rmse_lr = np.sqrt(mse_lr)\n",
        "\n",
        "# For LSTM, you can calculate similar metrics\n",
        "mae_lstm = mean_absolute_error(y, pred_lstm)\n",
        "mse_lstm = mean_squared_error(y, pred_lstm)\n",
        "rmse_lstm = np.sqrt(mse_lstm)"
      ],
      "metadata": {
        "id": "rlZsjUmCKDNM"
      },
      "execution_count": 32,
      "outputs": []
    },
    {
      "cell_type": "markdown",
      "source": [
        "## Step 4: Plotting"
      ],
      "metadata": {
        "id": "3Qj_KYM3KBo_"
      }
    },
    {
      "cell_type": "code",
      "source": [
        "# Step 4: Plotting\n",
        "import matplotlib.pyplot as plt\n",
        "\n",
        "# Plot LSTM predictions\n",
        "plt.figure(figsize=(10, 5))\n",
        "plt.plot(y, label='Real Values')\n",
        "plt.plot(pred_lstm, label='LSTM Predictions')\n",
        "plt.title('LSTM Predictions vs Real Values')\n",
        "plt.legend()\n",
        "plt.savefig('lstm_predictions.png')  # Save the plot as an image\n",
        "plt.close()\n",
        "\n",
        "# Plot Linear Regression predictions\n",
        "plt.figure(figsize=(10, 5))\n",
        "plt.scatter(y, pred_lr, color='blue')\n",
        "plt.plot(y, y, color='red', linewidth=2)  # Line for perfect predictions\n",
        "plt.title('Linear Regression Predictions')\n",
        "plt.xlabel('Actual Values')\n",
        "plt.ylabel('Predicted Values')\n",
        "plt.savefig('lr_predictions.png')  # Save the plot as an image\n",
        "plt.close()"
      ],
      "metadata": {
        "id": "w2WlPpEEKDxD"
      },
      "execution_count": 33,
      "outputs": []
    },
    {
      "cell_type": "markdown",
      "source": [
        "## Step 5: Save Metrics and Plots"
      ],
      "metadata": {
        "id": "7Jzrnv1DKCHe"
      }
    },
    {
      "cell_type": "code",
      "source": [
        "# Step 5: Save Metrics and Plots\n",
        "import json\n",
        "\n",
        "metrics = {\n",
        "    'mae_lr': mae_lr,\n",
        "    'rmse_lr': rmse_lr,\n",
        "    'mae_lstm': mae_lstm,\n",
        "    'rmse_lstm': rmse_lstm\n",
        "}\n",
        "\n",
        "with open('metrics.json', 'w') as f:\n",
        "    json.dump(metrics, f)"
      ],
      "metadata": {
        "id": "J7843vVY3Yp7"
      },
      "execution_count": 34,
      "outputs": []
    },
    {
      "cell_type": "markdown",
      "source": [
        "# Step 6: Download the files (using zip for convenience)"
      ],
      "metadata": {
        "id": "bSYTr47PKhRL"
      }
    },
    {
      "cell_type": "code",
      "source": [
        "# Step 6: Download the files (using zip for convenience)\n",
        "!zip -r model_outputs.zip metrics.json lstm_predictions.png lr_predictions.png\n",
        "\n",
        "from google.colab import files\n",
        "files.download('model_outputs.zip')"
      ],
      "metadata": {
        "colab": {
          "base_uri": "https://localhost:8080/",
          "height": 69
        },
        "id": "Ljff6xKXKlxK",
        "outputId": "271ab050-1b59-40e2-d8c8-2ecbfbee6764"
      },
      "execution_count": 35,
      "outputs": [
        {
          "output_type": "stream",
          "name": "stdout",
          "text": [
            "updating: metrics.json (deflated 27%)\n",
            "updating: lstm_predictions.png (deflated 7%)\n",
            "updating: lr_predictions.png (deflated 10%)\n"
          ]
        },
        {
          "output_type": "display_data",
          "data": {
            "text/plain": [
              "<IPython.core.display.Javascript object>"
            ],
            "application/javascript": [
              "\n",
              "    async function download(id, filename, size) {\n",
              "      if (!google.colab.kernel.accessAllowed) {\n",
              "        return;\n",
              "      }\n",
              "      const div = document.createElement('div');\n",
              "      const label = document.createElement('label');\n",
              "      label.textContent = `Downloading \"${filename}\": `;\n",
              "      div.appendChild(label);\n",
              "      const progress = document.createElement('progress');\n",
              "      progress.max = size;\n",
              "      div.appendChild(progress);\n",
              "      document.body.appendChild(div);\n",
              "\n",
              "      const buffers = [];\n",
              "      let downloaded = 0;\n",
              "\n",
              "      const channel = await google.colab.kernel.comms.open(id);\n",
              "      // Send a message to notify the kernel that we're ready.\n",
              "      channel.send({})\n",
              "\n",
              "      for await (const message of channel.messages) {\n",
              "        // Send a message to notify the kernel that we're ready.\n",
              "        channel.send({})\n",
              "        if (message.buffers) {\n",
              "          for (const buffer of message.buffers) {\n",
              "            buffers.push(buffer);\n",
              "            downloaded += buffer.byteLength;\n",
              "            progress.value = downloaded;\n",
              "          }\n",
              "        }\n",
              "      }\n",
              "      const blob = new Blob(buffers, {type: 'application/binary'});\n",
              "      const a = document.createElement('a');\n",
              "      a.href = window.URL.createObjectURL(blob);\n",
              "      a.download = filename;\n",
              "      div.appendChild(a);\n",
              "      a.click();\n",
              "      div.remove();\n",
              "    }\n",
              "  "
            ]
          },
          "metadata": {}
        },
        {
          "output_type": "display_data",
          "data": {
            "text/plain": [
              "<IPython.core.display.Javascript object>"
            ],
            "application/javascript": [
              "download(\"download_8ddb5e99-2795-475f-abca-e17e865245f2\", \"model_outputs.zip\", 80219)"
            ]
          },
          "metadata": {}
        }
      ]
    },
    {
      "cell_type": "code",
      "source": [
        "from google.colab import files\n",
        "\n",
        "files.download('lstm_predictions.png')\n",
        "files.download('lr_predictions.png')"
      ],
      "metadata": {
        "colab": {
          "base_uri": "https://localhost:8080/",
          "height": 17
        },
        "id": "tAa_ZgbU9Znp",
        "outputId": "2e5d3ed0-e333-4a70-8363-31c5bad14eec"
      },
      "execution_count": 36,
      "outputs": [
        {
          "output_type": "display_data",
          "data": {
            "text/plain": [
              "<IPython.core.display.Javascript object>"
            ],
            "application/javascript": [
              "\n",
              "    async function download(id, filename, size) {\n",
              "      if (!google.colab.kernel.accessAllowed) {\n",
              "        return;\n",
              "      }\n",
              "      const div = document.createElement('div');\n",
              "      const label = document.createElement('label');\n",
              "      label.textContent = `Downloading \"${filename}\": `;\n",
              "      div.appendChild(label);\n",
              "      const progress = document.createElement('progress');\n",
              "      progress.max = size;\n",
              "      div.appendChild(progress);\n",
              "      document.body.appendChild(div);\n",
              "\n",
              "      const buffers = [];\n",
              "      let downloaded = 0;\n",
              "\n",
              "      const channel = await google.colab.kernel.comms.open(id);\n",
              "      // Send a message to notify the kernel that we're ready.\n",
              "      channel.send({})\n",
              "\n",
              "      for await (const message of channel.messages) {\n",
              "        // Send a message to notify the kernel that we're ready.\n",
              "        channel.send({})\n",
              "        if (message.buffers) {\n",
              "          for (const buffer of message.buffers) {\n",
              "            buffers.push(buffer);\n",
              "            downloaded += buffer.byteLength;\n",
              "            progress.value = downloaded;\n",
              "          }\n",
              "        }\n",
              "      }\n",
              "      const blob = new Blob(buffers, {type: 'application/binary'});\n",
              "      const a = document.createElement('a');\n",
              "      a.href = window.URL.createObjectURL(blob);\n",
              "      a.download = filename;\n",
              "      div.appendChild(a);\n",
              "      a.click();\n",
              "      div.remove();\n",
              "    }\n",
              "  "
            ]
          },
          "metadata": {}
        },
        {
          "output_type": "display_data",
          "data": {
            "text/plain": [
              "<IPython.core.display.Javascript object>"
            ],
            "application/javascript": [
              "download(\"download_4d399e93-d561-4b97-81fe-d0b13fd75751\", \"lstm_predictions.png\", 49751)"
            ]
          },
          "metadata": {}
        },
        {
          "output_type": "display_data",
          "data": {
            "text/plain": [
              "<IPython.core.display.Javascript object>"
            ],
            "application/javascript": [
              "\n",
              "    async function download(id, filename, size) {\n",
              "      if (!google.colab.kernel.accessAllowed) {\n",
              "        return;\n",
              "      }\n",
              "      const div = document.createElement('div');\n",
              "      const label = document.createElement('label');\n",
              "      label.textContent = `Downloading \"${filename}\": `;\n",
              "      div.appendChild(label);\n",
              "      const progress = document.createElement('progress');\n",
              "      progress.max = size;\n",
              "      div.appendChild(progress);\n",
              "      document.body.appendChild(div);\n",
              "\n",
              "      const buffers = [];\n",
              "      let downloaded = 0;\n",
              "\n",
              "      const channel = await google.colab.kernel.comms.open(id);\n",
              "      // Send a message to notify the kernel that we're ready.\n",
              "      channel.send({})\n",
              "\n",
              "      for await (const message of channel.messages) {\n",
              "        // Send a message to notify the kernel that we're ready.\n",
              "        channel.send({})\n",
              "        if (message.buffers) {\n",
              "          for (const buffer of message.buffers) {\n",
              "            buffers.push(buffer);\n",
              "            downloaded += buffer.byteLength;\n",
              "            progress.value = downloaded;\n",
              "          }\n",
              "        }\n",
              "      }\n",
              "      const blob = new Blob(buffers, {type: 'application/binary'});\n",
              "      const a = document.createElement('a');\n",
              "      a.href = window.URL.createObjectURL(blob);\n",
              "      a.download = filename;\n",
              "      div.appendChild(a);\n",
              "      a.click();\n",
              "      div.remove();\n",
              "    }\n",
              "  "
            ]
          },
          "metadata": {}
        },
        {
          "output_type": "display_data",
          "data": {
            "text/plain": [
              "<IPython.core.display.Javascript object>"
            ],
            "application/javascript": [
              "download(\"download_cf7b671f-de25-49f2-94dd-db1e2ca80309\", \"lr_predictions.png\", 36784)"
            ]
          },
          "metadata": {}
        }
      ]
    },
    {
      "cell_type": "code",
      "source": [
        "# Save the LSTM model (add the .keras extension)\n",
        "model_lstm.save(\"lstm_model.keras\")  # Correct way to save in Keras format\n",
        "\n",
        "# Save the Linear Regression model (using pickle - this remains the same)\n",
        "import pickle\n",
        "with open('linear_regression_model.pkl', 'wb') as f:\n",
        "    pickle.dump(model_lr, f)"
      ],
      "metadata": {
        "id": "JBut0bVVMQk7"
      },
      "execution_count": 37,
      "outputs": []
    }
  ]
}